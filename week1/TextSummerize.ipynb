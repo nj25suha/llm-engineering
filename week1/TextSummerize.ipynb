{
 "cells": [
  {
   "cell_type": "code",
   "execution_count": 1,
   "metadata": {
    "collapsed": true,
    "ExecuteTime": {
     "end_time": "2025-05-21T10:05:58.931281Z",
     "start_time": "2025-05-21T10:05:56.867549Z"
    }
   },
   "outputs": [],
   "source": [
    "# Imports\n",
    "from IPython.display import Markdown, display\n",
    "import os\n",
    "import openai\n",
    "from dotenv import load_dotenv"
   ]
  },
  {
   "cell_type": "code",
   "execution_count": 2,
   "outputs": [],
   "source": [
    "load_dotenv(override=True)\n",
    "api_key = os.getenv('OPENAI_API_KEY')"
   ],
   "metadata": {
    "collapsed": false,
    "ExecuteTime": {
     "end_time": "2025-05-21T10:06:00.693385Z",
     "start_time": "2025-05-21T10:06:00.678377Z"
    }
   }
  },
  {
   "cell_type": "code",
   "execution_count": 4,
   "outputs": [],
   "source": [
    "# Model Prompt — TEXT version\n",
    "system_prompt = (\n",
    "    \"You are a helpful assistant. The user will paste a chunk of text, this is part of a book's introduction. This is the introduction of  \"\n",
    "    \"Your tasks are:\\n\\n\"\n",
    "    \"1. Give a summary in simple language (3-4 sentences).\\n\"\n",
    "    \"2. List the key points as bullet points.\\n\"\n",
    "    \"3. Highlight any action items, open questions, or follow-ups.\\n\\n\"\n",
    "    \"Respond in Markdown.\"\n",
    ")\n"
   ],
   "metadata": {
    "collapsed": false,
    "ExecuteTime": {
     "end_time": "2025-05-21T10:06:05.214389Z",
     "start_time": "2025-05-21T10:06:05.196447Z"
    }
   }
  },
  {
   "cell_type": "code",
   "execution_count": 5,
   "outputs": [],
   "source": [
    "text_chunk = \"\"\"\n",
    "In an early essay called “Is Judaea, then, the Teutons’ Father- land?” a great philosopher of the modern state wondered if his homeland would ever give rise to a nation. Reflecting upon the patchwork quilt of principalities that was Germany in his day, G. W. F. Hegel noted that its history seemed to provide only fragments for the building of a collective imagination:\n",
    "Thus we are without any religious imagery which is homegrown or linked with our history, and we are without any political imagery whatever; all that we have is the remains of an imagery of our own, lurking amid the common people under the name of superstition. As a belief in ghosts it retains the memory of a hill where knights once did their mischief or a house where monks and nuns walked or where a supposedly faithless trustee or neighbor has still failed to find rest in the grave. As a product of fancy, drawing nothing from history, it befools weak or evil men with the possibility of witchcraft.1\n",
    "Instead of turning to their own country and its past, suggested Hegel, Germans were only able to imagine a homeland in the landscape of biblical Judaea, whose image they had inherited from the centuries of Christianity that preceded the politics of nationalism:\n",
    "Christianity has emptied Valhalla, felled the sacred groves, extirpated the national imagery as a shameful superstition, as a devilish poison, and given us instead the imagery of a nation whose climate, laws, cul- ture, and interests are strange to us and whose history has no connec-\n",
    "\n",
    "tion whatever with our own. A David or a Solomon lives in our popular imagination, but our country’s own heroes slumber in learned history books, and, for the scholars who write them, Alexander or Caesar is as interesting as the story of Charlemagne or Frederick Bar- barossa. Except perhaps for Luther in the eyes of Protestants, what heroes could we have had, we who were never a nation?2\n",
    "\"\"\"\n",
    "user_prompt = text_chunk   # no helper needed; it's already a string\n"
   ],
   "metadata": {
    "collapsed": false,
    "ExecuteTime": {
     "end_time": "2025-05-21T10:06:06.044717Z",
     "start_time": "2025-05-21T10:06:05.958030Z"
    }
   }
  },
  {
   "cell_type": "code",
   "execution_count": 6,
   "outputs": [],
   "source": [
    "def messages_for():\n",
    "    return [\n",
    "        {\"role\": \"system\", \"content\": system_prompt},\n",
    "        {\"role\": \"user\", \"content\": user_prompt}\n",
    "    ]"
   ],
   "metadata": {
    "collapsed": false,
    "ExecuteTime": {
     "end_time": "2025-05-21T10:06:07.090935Z",
     "start_time": "2025-05-21T10:06:07.061962Z"
    }
   }
  },
  {
   "cell_type": "code",
   "execution_count": 7,
   "outputs": [],
   "source": [
    "def summarize():          # already there\n",
    "    response = openai.chat.completions.create(\n",
    "        model=\"gpt-4o-mini\",\n",
    "        messages=messages_for(),\n",
    "        temperature=0.3    # optional: a touch of randomness\n",
    "    )\n",
    "    return response.choices[0].message.content\n",
    "\n",
    "        # prints the Markdown for you\n"
   ],
   "metadata": {
    "collapsed": false,
    "ExecuteTime": {
     "end_time": "2025-05-21T10:06:07.908517Z",
     "start_time": "2025-05-21T10:06:07.882049Z"
    }
   }
  },
  {
   "cell_type": "code",
   "execution_count": 8,
   "outputs": [],
   "source": [
    "def display_summary():\n",
    "    summary = summarize()\n",
    "    display(Markdown(summary))"
   ],
   "metadata": {
    "collapsed": false,
    "ExecuteTime": {
     "end_time": "2025-05-21T10:06:09.094192Z",
     "start_time": "2025-05-21T10:06:09.035922Z"
    }
   }
  },
  {
   "cell_type": "code",
   "execution_count": 9,
   "outputs": [
    {
     "data": {
      "text/plain": "<IPython.core.display.Markdown object>",
      "text/markdown": "### Summary\nIn his essay, philosopher G. W. F. Hegel reflects on the fragmented state of Germany and questions whether it can ever become a unified nation. He argues that Germans lack a shared religious and political imagery rooted in their own history, instead relying on biblical figures from Judaea due to the influence of Christianity. This disconnect leaves them with a sense of emptiness regarding their national identity and heritage.\n\n### Key Points\n- Hegel questions if Germany will ever form a cohesive nation.\n- He notes that Germany's history is fragmented, lacking a unified collective imagination.\n- Germans have no homegrown religious or political imagery, relying instead on biblical references.\n- Christianity has overshadowed native German history and heroes, leaving them with a sense of disconnection from their own past.\n\n### Action Items, Open Questions, or Follow-Ups\n- Explore how Hegel's ideas on national identity might apply to modern Germany.\n- Investigate the impact of Christianity on the perception of German history and culture.\n- Consider what steps could be taken to revive interest in native German heroes and history."
     },
     "metadata": {},
     "output_type": "display_data"
    }
   ],
   "source": [
    "display_summary()"
   ],
   "metadata": {
    "collapsed": false,
    "ExecuteTime": {
     "end_time": "2025-05-21T10:06:21.593916Z",
     "start_time": "2025-05-21T10:06:15.405460Z"
    }
   }
  },
  {
   "cell_type": "code",
   "execution_count": null,
   "outputs": [],
   "source": [],
   "metadata": {
    "collapsed": false
   }
  }
 ],
 "metadata": {
  "kernelspec": {
   "display_name": "Python 3",
   "language": "python",
   "name": "python3"
  },
  "language_info": {
   "codemirror_mode": {
    "name": "ipython",
    "version": 2
   },
   "file_extension": ".py",
   "mimetype": "text/x-python",
   "name": "python",
   "nbconvert_exporter": "python",
   "pygments_lexer": "ipython2",
   "version": "2.7.6"
  }
 },
 "nbformat": 4,
 "nbformat_minor": 0
}
