{
 "cells": [
  {
   "cell_type": "code",
   "execution_count": 23,
   "metadata": {
    "collapsed": true,
    "ExecuteTime": {
     "end_time": "2025-05-23T12:48:44.222815Z",
     "start_time": "2025-05-23T12:48:43.723358Z"
    }
   },
   "outputs": [],
   "source": [
    "# Imports\n",
    "from IPython.display import Markdown, display\n",
    "import os\n",
    "import openai\n",
    "from dotenv import load_dotenv\n",
    "import pdfplumber\n",
    "from pathlib import Path"
   ]
  },
  {
   "cell_type": "code",
   "execution_count": 24,
   "outputs": [],
   "source": [
    "load_dotenv(override=True)\n",
    "api_key = os.getenv('OPENAI_API_KEY')"
   ],
   "metadata": {
    "collapsed": false,
    "ExecuteTime": {
     "end_time": "2025-05-23T12:48:47.958121Z",
     "start_time": "2025-05-23T12:48:47.855055Z"
    }
   }
  },
  {
   "cell_type": "code",
   "execution_count": 35,
   "outputs": [],
   "source": [
    "# Model Prompt — TEXT version\n",
    "system_prompt = (\n",
    "    \"You are a helpful assistant. The user will give a link of a paper from Journal of clinical Epidemiology. this is a paper about how to handle missing data.  \"\n",
    "    \"Your tasks are:\\n\\n\"\n",
    "    \"1. State the title and Give a summary in high language (10-12 sentences).\\n\"\n",
    "    \"2. List the key points as bullet points.\\n\"\n",
    "    \"3. Show a comparison table between the new approach and the existing approach.\"\n",
    "    \"5. discuss how the novel approach works?\\n\"\n",
    ")\n"
   ],
   "metadata": {
    "collapsed": false,
    "ExecuteTime": {
     "end_time": "2025-05-23T12:53:40.600045Z",
     "start_time": "2025-05-23T12:53:40.549522Z"
    }
   }
  },
  {
   "cell_type": "code",
   "execution_count": 36,
   "outputs": [],
   "source": [
    "def ingest_file(file_path: str) -> str:\n",
    "    \"\"\"\n",
    "    Returns the text from a PDF or any UTF-8-encoded text file.\n",
    "    Raises FileNotFoundError if the path is wrong.\n",
    "    \"\"\"\n",
    "    path = Path(file_path)\n",
    "    if not path.exists():\n",
    "        raise FileNotFoundError(f\"{file_path} not found\")\n",
    "\n",
    "    if path.suffix.lower() == \".pdf\":\n",
    "        text_chunks = []\n",
    "        with pdfplumber.open(path) as pdf:\n",
    "            for page in pdf.pages:\n",
    "                text_chunks.append(page.extract_text() or \"\")\n",
    "        return \"\\n\".join(text_chunks)\n",
    "\n",
    "    # fallback: treat as plain text\n",
    "    return path.read_text(encoding=\"utf-8\")"
   ],
   "metadata": {
    "collapsed": false,
    "ExecuteTime": {
     "end_time": "2025-05-23T12:53:41.181076Z",
     "start_time": "2025-05-23T12:53:41.150401Z"
    }
   }
  },
  {
   "cell_type": "code",
   "execution_count": 37,
   "outputs": [],
   "source": [
    "def messages_for():\n",
    "    return [\n",
    "        {\"role\": \"system\", \"content\": system_prompt},\n",
    "        {\"role\": \"user\", \"content\": user_prompt}\n",
    "    ]"
   ],
   "metadata": {
    "collapsed": false,
    "ExecuteTime": {
     "end_time": "2025-05-23T12:53:41.936375Z",
     "start_time": "2025-05-23T12:53:41.920496Z"
    }
   }
  },
  {
   "cell_type": "code",
   "execution_count": 38,
   "outputs": [],
   "source": [
    "def summarize():          # already there\n",
    "    response = openai.chat.completions.create(\n",
    "        model=\"gpt-4o-mini\",\n",
    "        messages=messages_for(),\n",
    "        temperature=0.3    # optional: a touch of randomness\n",
    "    )\n",
    "    return response.choices[0].message.content"
   ],
   "metadata": {
    "collapsed": false,
    "ExecuteTime": {
     "end_time": "2025-05-23T12:53:42.342190Z",
     "start_time": "2025-05-23T12:53:42.304429Z"
    }
   }
  },
  {
   "cell_type": "code",
   "execution_count": 39,
   "outputs": [
    {
     "data": {
      "text/plain": "<IPython.core.display.Markdown object>",
      "text/markdown": "### Title\nA Gentle Introduction to Imputation of Missing Values\n\n### Summary\nIn the realm of clinical epidemiology, the challenge of missing data is pervasive, often leading to biased results when handled improperly. This review article elucidates the shortcomings of simplistic methods such as complete case analysis, overall mean imputation, and the missing-indicator method, which frequently yield unreliable estimates. The authors advocate for more sophisticated imputation techniques, particularly single and multiple imputations, which are predicated on the principle that any subject in a study can be replaced by a randomly chosen subject from the same population. They delineate the conditions under which these methods yield unbiased estimates, specifically when data are missing at random (MAR) or completely at random (MCAR). The article further illustrates the efficacy of multiple imputation through a simulation study, demonstrating that it produces valid results with correct standard errors and confidence intervals, unlike single imputation, which often underestimates variability. The authors emphasize the importance of understanding the underlying mechanisms of missing data and the advantages of employing advanced imputation techniques to enhance the reliability of epidemiological analyses. Ultimately, the review serves as a clarion call for researchers to adopt these more robust methodologies to mitigate the biases inherent in traditional approaches to missing data.\n\n### Key Points\n- Missing data is a common issue in clinical research that can lead to biased results.\n- Simple methods like complete case analysis and overall mean imputation often produce unreliable estimates.\n- Imputation techniques replace missing values with estimates drawn from the distribution of observed data.\n- Single imputation uses one estimate, while multiple imputation employs several estimates to reflect uncertainty.\n- Both single and multiple imputations can yield unbiased estimates under MAR and MCAR conditions.\n- Single imputation typically leads to underestimated standard errors, while multiple imputation provides more accurate estimates.\n- The article includes a simulation study demonstrating the effectiveness of multiple imputation.\n- The authors argue for the adoption of sophisticated imputation methods in epidemiological research.\n- Understanding the mechanisms of missing data is crucial for accurate analysis.\n- Advanced imputation techniques are now accessible through standard statistical software.\n\n### Comparison Table: New Approach vs. Existing Approach\n\n| Aspect                          | Existing Approach (Simple Methods)           | New Approach (Imputation Techniques)      |\n|---------------------------------|---------------------------------------------|-------------------------------------------|\n| Methods Used                    | Complete case analysis, overall mean imputation, missing-indicator method | Single imputation, multiple imputation    |\n| Bias in Estimates               | High risk of biased estimates                | Unbiased estimates under MAR and MCAR    |\n| Treatment of Missing Data       | Excludes cases or assigns arbitrary values   | Replaces missing values with estimated distributions |\n| Standard Errors                 | Often underestimated                         | Correctly estimated, reflecting uncertainty |\n| Complexity                      | Simple and straightforward                   | More complex but valid                     |\n| Software Availability            | Limited statistical software support         | Widely available in standard software (e.g., SAS, R) |\n| Applicability                   | Limited to specific scenarios                | Applicable in a broader range of studies  |\n\n### Discussion on How the Novel Approach Works\nThe novel approach to handling missing data, particularly through multiple imputation, operates on the principle of replacing missing values with estimates derived from the distribution of observed data. In this method, multiple datasets are created, each with different imputed values for the missing data, reflecting the uncertainty inherent in the imputation process. This is achieved by drawing values from a statistical model that estimates the distribution of the variable with missing data based on other observed variables. \n\nFor instance, if a subject's test result is missing, the imputation model might use other characteristics (such as age, sex, and disease status) to predict a plausible value for the test result. By generating several imputed datasets, researchers can analyze each dataset separately and then combine the results to produce a single estimate that accounts for both the variability due to sampling and the uncertainty due to imputation. This results in more accurate standard errors and confidence intervals, enhancing the validity of the conclusions drawn from the analysis.\n\nIn contrast, single imputation only fills in missing values once, which can lead to an underestimation of variability and overly optimistic confidence intervals. The multiple imputation approach, therefore, provides a more robust framework for dealing with missing data, ensuring that the analyses remain valid and reliable across various scenarios commonly encountered in clinical research."
     },
     "metadata": {},
     "output_type": "display_data"
    }
   ],
   "source": [
    "# --- pick your input file ---\n",
    "raw_text = ingest_file(\"/Users/nusratjahan/Desktop/courses/llm and promtp/llm_engineering/week1/Review--A-gentle-introduction-to-imputation-of-mis.pdf\")\n",
    "\n",
    "# --- existing notebook bits ----\n",
    "user_prompt = raw_text          # <- same variable you used before\n",
    "response_md = summarize()       # the summarize() you already have\n",
    "display(Markdown(response_md))  # pretty-print in notebook\n"
   ],
   "metadata": {
    "collapsed": false,
    "ExecuteTime": {
     "end_time": "2025-05-23T12:54:03.546774Z",
     "start_time": "2025-05-23T12:53:42.849131Z"
    }
   }
  },
  {
   "cell_type": "code",
   "execution_count": null,
   "outputs": [],
   "source": [],
   "metadata": {
    "collapsed": false
   }
  }
 ],
 "metadata": {
  "kernelspec": {
   "display_name": "Python 3",
   "language": "python",
   "name": "python3"
  },
  "language_info": {
   "codemirror_mode": {
    "name": "ipython",
    "version": 2
   },
   "file_extension": ".py",
   "mimetype": "text/x-python",
   "name": "python",
   "nbconvert_exporter": "python",
   "pygments_lexer": "ipython2",
   "version": "2.7.6"
  }
 },
 "nbformat": 4,
 "nbformat_minor": 0
}
