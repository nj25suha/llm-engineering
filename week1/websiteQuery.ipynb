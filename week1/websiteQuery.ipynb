{
 "cells": [
  {
   "cell_type": "code",
   "execution_count": 19,
   "metadata": {
    "collapsed": true,
    "ExecuteTime": {
     "end_time": "2025-05-23T14:41:48.771892Z",
     "start_time": "2025-05-23T14:41:48.761384Z"
    }
   },
   "outputs": [],
   "source": [
    "import requests\n",
    "from bs4 import BeautifulSoup\n",
    "from openai import OpenAI\n",
    "# import openai\n",
    "from IPython.display import display, Markdown\n",
    "from dotenv import load_dotenv\n",
    "import os"
   ]
  },
  {
   "cell_type": "code",
   "execution_count": 20,
   "outputs": [],
   "source": [
    "load_dotenv(override=True)\n",
    "api_key = os.getenv('OPENAI_API_KEY')\n",
    "openai = OpenAI()"
   ],
   "metadata": {
    "collapsed": false,
    "ExecuteTime": {
     "end_time": "2025-05-23T14:41:49.761383Z",
     "start_time": "2025-05-23T14:41:49.693433Z"
    }
   }
  },
  {
   "cell_type": "code",
   "execution_count": 21,
   "outputs": [],
   "source": [
    "# A class to represent a Webpage\n",
    "# If you're not familiar with Classes, check out the \"Intermediate Python\" notebook\n",
    "\n",
    "# Some websites need you to use proper headers when fetching them:\n",
    "headers = {\n",
    " \"User-Agent\": \"Mozilla/5.0 (Windows NT 10.0; Win64; x64) AppleWebKit/537.36 (KHTML, like Gecko) Chrome/117.0.0.0 Safari/537.36\"\n",
    "}\n",
    "\n",
    "class Website:\n",
    "\n",
    "    def __init__(self, url):\n",
    "        \"\"\"\n",
    "        Create this Website object from the given url using the BeautifulSoup library\n",
    "        \"\"\"\n",
    "        self.url = url\n",
    "        response = requests.get(url, headers=headers)\n",
    "        soup = BeautifulSoup(response.content, 'html.parser')\n",
    "        self.title = soup.title.string if soup.title else \"No title found\"\n",
    "        for irrelevant in soup.body([\"script\", \"style\", \"img\", \"input\"]):\n",
    "            irrelevant.decompose()\n",
    "        self.text = soup.body.get_text(separator=\"\\n\", strip=True)"
   ],
   "metadata": {
    "collapsed": false,
    "ExecuteTime": {
     "end_time": "2025-05-23T14:41:51.091611Z",
     "start_time": "2025-05-23T14:41:51.036084Z"
    }
   }
  },
  {
   "cell_type": "code",
   "execution_count": 23,
   "outputs": [],
   "source": [
    "system_prompt = \"You are an assistant that analyzes the contents of a website \\\n",
    "and provides a short summary, ignoring text that might be navigation related. \\\n",
    "Respond in markdown.\""
   ],
   "metadata": {
    "collapsed": false,
    "ExecuteTime": {
     "end_time": "2025-05-23T14:42:05.211171Z",
     "start_time": "2025-05-23T14:42:05.197889Z"
    }
   }
  },
  {
   "cell_type": "code",
   "execution_count": 24,
   "outputs": [],
   "source": [
    "def user_prompt_for(website):\n",
    "    user_prompt = f\"\\nYou are looking at a website titled {website.title}\"\n",
    "    user_prompt += \"The contents of this website is as follows; \\\n",
    "please provide a short summary of this website in markdown. \\\n",
    "If it includes news or announcements, then summarize these too.\\\n",
    "and also provide what are th e curriculam of this certificates. \\n\\n\"\n",
    "    user_prompt += website.text\n",
    "    return user_prompt"
   ],
   "metadata": {
    "collapsed": false,
    "ExecuteTime": {
     "end_time": "2025-05-23T14:42:09.732952Z",
     "start_time": "2025-05-23T14:42:09.713691Z"
    }
   }
  },
  {
   "cell_type": "code",
   "execution_count": 25,
   "outputs": [],
   "source": [
    "# print(user_prompt_for(web))"
   ],
   "metadata": {
    "collapsed": false,
    "ExecuteTime": {
     "end_time": "2025-05-23T14:42:15.704878Z",
     "start_time": "2025-05-23T14:42:15.647457Z"
    }
   }
  },
  {
   "cell_type": "code",
   "execution_count": 26,
   "outputs": [],
   "source": [
    "def messages_for(website):\n",
    "    return [\n",
    "        {\"role\": \"system\", \"content\": system_prompt},\n",
    "        {\"role\": \"user\", \"content\": user_prompt_for(website)}\n",
    "    ]"
   ],
   "metadata": {
    "collapsed": false,
    "ExecuteTime": {
     "end_time": "2025-05-23T14:42:17.125587Z",
     "start_time": "2025-05-23T14:42:17.094075Z"
    }
   }
  },
  {
   "cell_type": "code",
   "execution_count": 27,
   "outputs": [],
   "source": [
    "# And now: call the OpenAI API. You will get very familiar with this!\n",
    "\n",
    "def summarize(url):\n",
    "    website = Website(url)\n",
    "    response = openai.chat.completions.create(\n",
    "        model = \"gpt-4o-mini\",\n",
    "        messages = messages_for(website)\n",
    "    )\n",
    "    return response.choices[0].message.content"
   ],
   "metadata": {
    "collapsed": false,
    "ExecuteTime": {
     "end_time": "2025-05-23T14:42:18.727964Z",
     "start_time": "2025-05-23T14:42:18.716237Z"
    }
   }
  },
  {
   "cell_type": "code",
   "execution_count": 29,
   "outputs": [],
   "source": [
    "# A function to display this nicely in the Jupyter output, using markdown\n",
    "\n",
    "def display_summary(url):\n",
    "    summary = summarize(url)\n",
    "    display(Markdown(summary))"
   ],
   "metadata": {
    "collapsed": false,
    "ExecuteTime": {
     "end_time": "2025-05-23T14:42:20.862518Z",
     "start_time": "2025-05-23T14:42:20.847985Z"
    }
   }
  },
  {
   "cell_type": "code",
   "execution_count": 30,
   "outputs": [
    {
     "data": {
      "text/plain": "<IPython.core.display.Markdown object>",
      "text/markdown": "# Summary of AWS Certified Solutions Architect – Associate - Credly\n\nThe website provides information about the **AWS Certified Solutions Architect – Associate** certification issued by Amazon Web Services (AWS) Training and Certification. This certification is targeted at individuals with an intermediate level of expertise in cloud architecture and demonstrates a comprehensive understanding of AWS services and technologies.\n\n## Key Points\n- **Certification Level**: Intermediate\n- **Issued By**: Amazon Web Services Training and Certification\n- **Skills Acquired**:\n  - Amazon Web Services (AWS)\n  - Cloud Architecture\n  - AWS Cloud Services\n  - Cloud Infrastructure\n  - Cloud Data Management\n  - AWS Certification Strategies\n\n## Earning Criteria\nTo earn this certification, candidates must successfully pass the AWS Certified Solutions Architect – Associate exam.\n\nThis certification verifies the ability to build secure and robust solutions leveraging architectural design principles that fulfill customer requirements. Badge holders are equipped to strategically design well-architected distributed systems that are scalable, resilient, efficient, and fault-tolerant. \n\nNo news or announcements were mentioned on the website."
     },
     "metadata": {},
     "output_type": "display_data"
    }
   ],
   "source": [
    "display_summary(\"https://www.credly.com/org/amazon-web-services/badge/aws-certified-solutions-architect-associate\")"
   ],
   "metadata": {
    "collapsed": false,
    "ExecuteTime": {
     "end_time": "2025-05-23T14:42:32.003959Z",
     "start_time": "2025-05-23T14:42:21.985284Z"
    }
   }
  },
  {
   "cell_type": "markdown",
   "source": [
    "## Ask question about the website"
   ],
   "metadata": {
    "collapsed": false
   }
  },
  {
   "cell_type": "code",
   "execution_count": 32,
   "outputs": [],
   "source": [
    "def ask_question_about(url, user_question):\n",
    "    website = Website(url)\n",
    "\n",
    "    messages_2 = [\n",
    "        {\"role\": \"system\", \"content\": \"You are an assistant that answers detailed questions about the content of a website. Use the full page text to help answer questions clearly and accurately.\"},\n",
    "        {\"role\": \"user\", \"content\": f\"Website content:\\n{website.text[:8000]}\"},\n",
    "        {\"role\": \"user\", \"content\": f\"My question is: {user_question}\"}\n",
    "    ]\n",
    "\n",
    "    response = openai.chat.completions.create(\n",
    "        model=\"gpt-4o-mini\",\n",
    "        messages=messages_2\n",
    "    )\n",
    "\n",
    "    display(Markdown(response.choices[0].message.content))\n"
   ],
   "metadata": {
    "collapsed": false,
    "ExecuteTime": {
     "end_time": "2025-05-23T14:52:22.271257Z",
     "start_time": "2025-05-23T14:52:22.188604Z"
    }
   }
  },
  {
   "cell_type": "code",
   "execution_count": 34,
   "outputs": [
    {
     "data": {
      "text/plain": "<IPython.core.display.Markdown object>",
      "text/markdown": "The curriculum or key topic areas for the AWS Certified Solutions Architect - Associate certification include the following domains:\n\n1. **Design Resilient Architectures**: This focuses on designing architectures that can recover from failures and ensure high availability.\n\n2. **Design High-Performing Architectures**: This involves optimizing architectures for performance, enabling quick responses and efficient resource usage.\n\n3. **Design Secure Applications and Architectures**: This includes implementing security best practices, safeguarding data, and designing secure solutions on AWS.\n\n4. **Design Cost-Optimized Architectures**: This domain focuses on designing solutions that minimize costs while maximizing performance and efficiency.\n\nEach of these domains aligns with specific AWS services and best practices, and they are critical for preparing for the certification exam."
     },
     "metadata": {},
     "output_type": "display_data"
    }
   ],
   "source": [
    "ask_question_about(\n",
    "    \"https://aws.amazon.com/certification/certified-solutions-architect-associate/\",\n",
    "    \"List the curriculum or key topic areas for this certification\"\n",
    ")\n"
   ],
   "metadata": {
    "collapsed": false,
    "ExecuteTime": {
     "end_time": "2025-05-23T14:56:26.560168Z",
     "start_time": "2025-05-23T14:56:19.560703Z"
    }
   }
  },
  {
   "cell_type": "code",
   "execution_count": null,
   "outputs": [],
   "source": [],
   "metadata": {
    "collapsed": false
   }
  }
 ],
 "metadata": {
  "kernelspec": {
   "display_name": "Python 3",
   "language": "python",
   "name": "python3"
  },
  "language_info": {
   "codemirror_mode": {
    "name": "ipython",
    "version": 2
   },
   "file_extension": ".py",
   "mimetype": "text/x-python",
   "name": "python",
   "nbconvert_exporter": "python",
   "pygments_lexer": "ipython2",
   "version": "2.7.6"
  }
 },
 "nbformat": 4,
 "nbformat_minor": 0
}
